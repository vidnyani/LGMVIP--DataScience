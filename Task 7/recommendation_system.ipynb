{
 "cells": [
  {
   "cell_type": "markdown",
   "metadata": {},
   "source": [
    "Task 7 - Light GBM on KKBox's Music Recommendation System"
   ]
  },
  {
   "cell_type": "code",
   "execution_count": 3,
   "metadata": {},
   "outputs": [
    {
     "name": "stdout",
     "output_type": "stream",
     "text": [
      "Collecting Lightgbm\n",
      "  Downloading lightgbm-3.3.2-py3-none-win_amd64.whl (1.0 MB)\n",
      "Requirement already satisfied: wheel in c:\\users\\vidny\\anaconda3\\lib\\site-packages (from Lightgbm) (0.36.2)\n",
      "Requirement already satisfied: scipy in c:\\users\\vidny\\anaconda3\\lib\\site-packages (from Lightgbm) (1.6.2)\n",
      "Requirement already satisfied: numpy in c:\\users\\vidny\\anaconda3\\lib\\site-packages (from Lightgbm) (1.19.5)\n",
      "Requirement already satisfied: scikit-learn!=0.22.0 in c:\\users\\vidny\\anaconda3\\lib\\site-packages (from Lightgbm) (0.24.1)\n",
      "Requirement already satisfied: joblib>=0.11 in c:\\users\\vidny\\anaconda3\\lib\\site-packages (from scikit-learn!=0.22.0->Lightgbm) (1.0.1)\n",
      "Requirement already satisfied: threadpoolctl>=2.0.0 in c:\\users\\vidny\\anaconda3\\lib\\site-packages (from scikit-learn!=0.22.0->Lightgbm) (2.1.0)\n",
      "Installing collected packages: Lightgbm\n",
      "Successfully installed Lightgbm-3.3.2\n",
      "Note: you may need to restart the kernel to use updated packages.\n"
     ]
    }
   ],
   "source": [
    "pip install Lightgbm"
   ]
  },
  {
   "cell_type": "code",
   "execution_count": 2,
   "metadata": {},
   "outputs": [],
   "source": [
    "#Importing libraries\n",
    "import numpy as np\n",
    "import pandas as pd\n",
    "import lightgbm as lgb\n",
    "import datetime\n",
    "import math\n",
    "import gc\n",
    "from sklearn.pipeline import Pipeline\n",
    "from sklearn.model_selection import GridSearchCV\n",
    "from sklearn.metrics import accuracy_score\n",
    "import random\n",
    "import matplotlib.pyplot as plt\n",
    "import graphviz\n",
    "import warnings\n",
    "warnings.filterwarnings('ignore')"
   ]
  },
  {
   "cell_type": "code",
   "execution_count": 2,
   "metadata": {},
   "outputs": [],
   "source": [
    "\n",
    "train = pd.read_csv('train.csv', dtype={'msno' : 'object',\n",
    "                                                 'source_system_tab' : 'object',\n",
    "                                                 'source_screen_name' : 'object',\n",
    "                                                 'source_type' : 'object',\n",
    "                                                 'target' : np.uint8,\n",
    "                                                 'song_id' : 'object'})\n",
    "test = pd.read_csv('test.csv', dtype={'msno' : 'object',\n",
    "                                               'source_system_tab' : 'object',\n",
    "                                               'source_screen_name' : 'object',\n",
    "                                               'source_type' : 'object',\n",
    "                                               'song_id' : 'object'})\n",
    "songs = pd.read_csv('songs.csv',dtype={'genre_ids': 'object',\n",
    "                                                    'language' : 'object',\n",
    "                                                    'artist_name' : 'object',\n",
    "                                                    'composer' : 'object',\n",
    "                                                    'lyricist' : 'object',\n",
    "                                                    'song_id' : 'object'})\n",
    "members = pd.read_csv('members.csv',dtype={'city' : 'object',\n",
    "                                                    'bd' : np.uint8,\n",
    "                                                    'gender' : 'object',\n",
    "                                                    'registered_via' : 'object'},\n",
    "                     parse_dates=['registration_init_time','expiration_date'])\n",
    "songs_extra = pd.read_csv('song_extra_info.csv')\n"
   ]
  },
  {
   "cell_type": "code",
   "execution_count": 3,
   "metadata": {},
   "outputs": [],
   "source": [
    "def object2cat(df):\n",
    "    object_cols = list(df.select_dtypes(include=['object']).columns)\n",
    "    for col in object_cols:\n",
    "        df[col]=df[col].astype('category')\n",
    "object2cat(train)\n",
    "object2cat(test)\n",
    "object2cat(songs)\n",
    "object2cat(members)"
   ]
  },
  {
   "cell_type": "code",
   "execution_count": 4,
   "metadata": {},
   "outputs": [],
   "source": [
    "assert train['msno'].dtype == 'category'\n",
    "assert test['source_system_tab'].dtype == 'category'\n",
    "assert songs['language'].dtype == 'category'\n",
    "assert members['city'].dtype == 'category'"
   ]
  },
  {
   "cell_type": "code",
   "execution_count": 5,
   "metadata": {},
   "outputs": [],
   "source": [
    "# Merging song with train and test dataframes\n",
    "train = train.merge(songs, on='song_id', how='left')\n",
    "test = test.merge(songs, on='song_id', how='left')\n",
    "\n",
    "# Data Extraction/Transformation - Extracting days, \n",
    "# months and years from expiratin and registration time \n",
    "members['membership_days'] = members['expiration_date'].subtract(\n",
    "    members['registration_init_time']).dt.days.astype(int)\n",
    "\n",
    "members['registration_year'] = members['registration_init_time'].dt.year\n",
    "members['registration_month'] = members['registration_init_time'].dt.month\n",
    "members['registration_date'] = members['registration_init_time'].dt.day\n",
    "\n",
    "members['expiration_year'] = members['expiration_date'].dt.year\n",
    "members['expiration_month'] = members['expiration_date'].dt.month\n",
    "members['expiration_date'] = members['expiration_date'].dt.day\n",
    "members = members.drop(['registration_init_time'], axis=1)\n",
    "\n",
    "\n",
    "# Converting isrc id to year\n",
    "def isrc_to_year(isrc):\n",
    "    if type(isrc) == str:\n",
    "        if int(isrc[5:7]) > 17:\n",
    "            return 1900 + int(isrc[5:7])\n",
    "        else:\n",
    "            return 2000 + int(isrc[5:7])\n",
    "    else:\n",
    "        return np.nan\n",
    "\n",
    "#extracting the year of the song from isrc        \n",
    "songs_extra['song_year'] = songs_extra['isrc'].apply(isrc_to_year)\n",
    "\n",
    "#Dropping isrc and name from songs_extra\n",
    "songs_extra.drop(['isrc', 'name'], axis = 1, inplace = True)\n",
    "\n",
    "train = train.merge(members, on='msno', how='left')\n",
    "train.msno = train.msno.astype('category')\n",
    "test = test.merge(members, on='msno', how='left')\n",
    "test.msno = test.msno.astype('category')\n",
    "\n",
    "train = train.merge(songs_extra, on = 'song_id', how = 'left')\n",
    "train.song_length.fillna(200000,inplace=True)\n",
    "train.song_length = train.song_length.astype(np.uint32)\n",
    "train.song_id = train.song_id.astype('category')\n",
    "\n",
    "\n",
    "test = test.merge(songs_extra, on = 'song_id', how = 'left')\n",
    "test.song_length.fillna(200000,inplace=True)\n",
    "test.song_length = test.song_length.astype(np.uint32)\n",
    "test.song_id = test.song_id.astype('category')\n",
    "\n",
    "#deleting redundant dataframes\n",
    "\n",
    "del members, songs; gc.collect();\n"
   ]
  },
  {
   "cell_type": "code",
   "execution_count": 6,
   "metadata": {},
   "outputs": [],
   "source": [
    "assert len(songs_extra['song_year']) != 0"
   ]
  },
  {
   "cell_type": "code",
   "execution_count": 7,
   "metadata": {},
   "outputs": [],
   "source": [
    "def genre_id_count(x):\n",
    "    if x == 'no_genre_id':\n",
    "        return 0\n",
    "    else:\n",
    "        return x.count('|') + 1\n",
    "\n",
    "\n",
    "#filling NA in place of null values\n",
    "train['genre_ids'].cat.add_categories('no_genre_id').fillna('no_genre_id',inplace=True)\n",
    "test['genre_ids'].cat.add_categories('no_genre_id').fillna('no_genre_id',inplace=True)\n",
    "train['genre_ids_count'] = train['genre_ids'].apply(genre_id_count).astype(object)\n",
    "test['genre_ids_count'] = test['genre_ids'].apply(genre_id_count).astype(object)\n",
    "\n",
    "\n",
    "# Splitting the lyricists by ['|', '/', '\\\\', ';'] and counting the number of Lyricists\n",
    "def lyricist_count(x):\n",
    "    if x == 'no_lyricist':\n",
    "        return 0\n",
    "    else:\n",
    "        return sum(map(x.count, ['|', '/', '\\\\', ';'])) + 1\n",
    "    return sum(map(x.count, ['|', '/', '\\\\', ';']))\n",
    "\n",
    "train['lyricist'].cat.add_categories('no_lyricist').fillna('no_lyricist',inplace=True)\n",
    "test['lyricist'].cat.add_categories('no_lyricist').fillna('no_lyricist',inplace=True)\n",
    "train['lyricists_count'] = train['lyricist'].apply(lyricist_count).astype(object)\n",
    "test['lyricists_count'] = test['lyricist'].apply(lyricist_count).astype(object)\n",
    "\n",
    "\n",
    "# Splitting the composer by ['|', '/', '\\\\', ';'] and counting the number of Lyricists\n",
    "def composer_count(x):\n",
    "    if x == 'no_composer':\n",
    "        return 0\n",
    "    else:\n",
    "        return sum(map(x.count, ['|', '/', '\\\\', ';'])) + 1\n",
    "\n",
    "\n",
    "train['composer'].cat.add_categories('no_composer').fillna('no_composer',inplace=True)\n",
    "test['composer'].cat.add_categories('no_composer').fillna('no_composer',inplace=True)\n",
    "train['composer_count'] = train['composer'].apply(composer_count).astype(object)\n",
    "test['composer_count'] = test['composer'].apply(composer_count).astype(object)\n",
    "\n",
    "# Checking for feat in the column value\n",
    "def is_featured(x):\n",
    "    if 'feat' in str(x) :\n",
    "        return 1\n",
    "    return 0\n",
    "\n",
    "train['artist_name'].cat.add_categories('no_artist').fillna('no_artist',inplace=True)\n",
    "test['artist_name'].cat.add_categories('no_artist').fillna('no_artist',inplace=True)\n",
    "train['is_featured'] = train['artist_name'].apply(is_featured).astype(object)\n",
    "test['is_featured'] = test['artist_name'].apply(is_featured).astype(object)\n",
    "\n",
    "# Splitting the artists by [and, ',', feat, &] and counting the number of artists\n",
    "def artist_count(x):\n",
    "    if x == 'no_artist':\n",
    "        return 0\n",
    "    else:\n",
    "        return x.count('and') + x.count(',') + x.count('feat') + x.count('&')\n",
    "\n",
    "train['artist_count'] = train['artist_name'].apply(artist_count).astype(object)\n",
    "test['artist_count'] = test['artist_name'].apply(artist_count).astype(object)"
   ]
  },
  {
   "cell_type": "code",
   "execution_count": 8,
   "metadata": {},
   "outputs": [],
   "source": [
    "#testing genre_id_count\n",
    "assert len(train['genre_ids_count']) != 0\n",
    "assert len(test['genre_ids_count']) != 0\n",
    "\n",
    "#testing composer_count\n",
    "assert len(train['composer_count']) != 0\n",
    "assert len(train['composer_count']) != 0\n",
    "\n",
    "#testing lyricist_count\n",
    "assert len(train['lyricists_count']) != 0\n",
    "assert len(test['lyricists_count']) != 0\n",
    "\n",
    "#testing is_feat\n",
    "assert len(train['is_featured']) != 0\n",
    "assert len(test['is_featured']) != 0\n",
    "\n",
    "#testing artist_count\n",
    "assert len(train['artist_count']) != 0\n",
    "assert len(test['artist_count']) != 0"
   ]
  },
  {
   "cell_type": "code",
   "execution_count": 10,
   "metadata": {},
   "outputs": [],
   "source": [
    "train['artist_composer'] = (train['artist_name'].astype(\"object\") == train['composer']\n",
    "                            .astype(\"object\")).astype(object)\n",
    "test['artist_composer'] = (test['artist_name'].astype(\"object\") == test['composer']\n",
    "                           .astype(\"object\")).astype(object)\n",
    "\n",
    "# if artist, lyricist and composer are all three same\n",
    "train['artist_composer_lyricist'] = ((train['artist_name'].astype(\"object\") \n",
    "                                      == train['composer'].astype(\"object\")) \n",
    "                                     & (train['artist_name'].astype(\"object\")\n",
    "                                        == train['lyricist'].astype(\"object\"))\n",
    "                                     & (train['composer'].astype(\"object\")\n",
    "                                        == train['lyricist'].astype(\"object\"))\n",
    "                                    ).astype(object)\n",
    "test['artist_composer_lyricist'] = ((test['artist_name'].astype(\"object\") \n",
    "                                     == test['composer'].astype(\"object\")) \n",
    "                                    & (test['artist_name'].astype(\"object\")\n",
    "                                       == test['lyricist'].astype(\"object\"))\n",
    "                                    & (test['composer'].astype(\"object\") \n",
    "                                       == test['lyricist'].astype(\"object\"))\n",
    "                                   ).astype(object)\n",
    "\n",
    "# is song language 17 or 45. \n",
    "def song_lang_boolean(x):\n",
    "    if '17.0' in str(x) or '45.0' in str(x):\n",
    "        return 1\n",
    "    return 0\n",
    "\n",
    "train['song_lang_boolean'] = train['language'].apply(song_lang_boolean).astype(object)\n",
    "test['song_lang_boolean'] = test['language'].apply(song_lang_boolean).astype(object)\n",
    "\n",
    "_mean_song_length = np.mean(train['song_length'])\n",
    "def smaller_song(x):\n",
    "    if x < _mean_song_length:\n",
    "        return 1\n",
    "    return 0\n",
    "\n",
    "train['smaller_song'] = train['song_length'].apply(smaller_song).astype(object)\n",
    "test['smaller_song'] = test['song_length'].apply(smaller_song).astype(object)\n",
    "\n",
    "# number of times a song has been played before\n",
    "_dict_count_song_played_train = {k: v for k, v in train['song_id']\n",
    "                                 .value_counts().iteritems()}\n",
    "_dict_count_song_played_test = {k: v for k, v in test['song_id']\n",
    "                                .value_counts().iteritems()}\n",
    "\n",
    "def count_song_played(x):\n",
    "    try:\n",
    "        return _dict_count_song_played_train[x]\n",
    "    except KeyError:\n",
    "        try:\n",
    "            return _dict_count_song_played_test[x]\n",
    "        except KeyError:\n",
    "            return 0\n",
    "    \n",
    "train['count_song_played'] = train['song_id'].apply(count_song_played).astype(object)\n",
    "test['count_song_played'] = test['song_id'].apply(count_song_played).astype(object)\n",
    "\n",
    "# number of times the artist has been played\n",
    "_dict_count_artist_played_train = {k: v for k, v in train['artist_name']\n",
    "                                   .value_counts().iteritems()}\n",
    "_dict_count_artist_played_test = {k: v for k, v in test['artist_name']\n",
    "                                  .value_counts().iteritems()}\n",
    "\n",
    "def count_artist_played(x):\n",
    "    try:\n",
    "        return _dict_count_artist_played_train[x]\n",
    "    except KeyError:\n",
    "        try:\n",
    "            return _dict_count_artist_played_test[x]\n",
    "        except KeyError:\n",
    "            return 0\n",
    "\n",
    "train['count_artist_played'] = train['artist_name'].apply(count_artist_played).astype(object)\n",
    "test['count_artist_played'] = test['artist_name'].apply(count_artist_played).astype(object)\n"
   ]
  },
  {
   "cell_type": "code",
   "execution_count": 11,
   "metadata": {},
   "outputs": [],
   "source": [
    "#testing song_lang_boolean\n",
    "assert train['song_lang_boolean'][0] == 0\n",
    "assert train['song_lang_boolean'][58] == 1\n",
    "\n",
    "#testing smaller_song\n",
    "assert len(test['smaller_song']) != 0\n",
    "assert len(train['smaller_song']) != 0\n",
    "\n",
    "#testing count_song_played\n",
    "assert 'count_song_played' in train\n",
    "assert len(train['count_artist_played']) != 0\n",
    "assert 'count_song_played' in test\n",
    "assert len(test['count_artist_played']) != 0"
   ]
  },
  {
   "cell_type": "code",
   "execution_count": 12,
   "metadata": {},
   "outputs": [],
   "source": [
    "train.to_csv(\"processed_train_1.csv\") #Saving file to local\n",
    "test.to_csv(\"test_1.csv\") #Saving test file to local"
   ]
  },
  {
   "cell_type": "code",
   "execution_count": 14,
   "metadata": {},
   "outputs": [
    {
     "data": {
      "text/plain": [
       "30"
      ]
     },
     "execution_count": 14,
     "metadata": {},
     "output_type": "execute_result"
    }
   ],
   "source": [
    "gc.collect()"
   ]
  },
  {
   "cell_type": "code",
   "execution_count": 4,
   "metadata": {},
   "outputs": [],
   "source": [
    "data = pd.read_csv(\"processed_train_1.csv\")"
   ]
  },
  {
   "cell_type": "code",
   "execution_count": 16,
   "metadata": {},
   "outputs": [],
   "source": [
    "train = data.drop(data.columns[0], axis=1)"
   ]
  },
  {
   "cell_type": "code",
   "execution_count": 17,
   "metadata": {},
   "outputs": [],
   "source": [
    "for col in train.columns:\n",
    "    if train[col].dtype == object:\n",
    "        train[col] = train[col].astype('category')        \n",
    "\n",
    "y_train = train['target'].values\n",
    "X_train = train.drop(['target'], axis=1)"
   ]
  },
  {
   "cell_type": "code",
   "execution_count": 18,
   "metadata": {},
   "outputs": [
    {
     "data": {
      "text/plain": [
       "45"
      ]
     },
     "execution_count": 18,
     "metadata": {},
     "output_type": "execute_result"
    }
   ],
   "source": [
    "del train\n",
    "gc.collect()"
   ]
  },
  {
   "cell_type": "code",
   "execution_count": 19,
   "metadata": {},
   "outputs": [],
   "source": [
    "from sklearn.model_selection import train_test_split\n",
    "X_train_all, X_test, y_train_all, y_test = train_test_split(X_train, y_train,\n",
    "                                                            test_size=0.2)\n",
    "\n",
    "X_train, X_val, y_train, y_val = train_test_split(X_train_all, y_train_all,\n",
    "                                                  test_size=0.2)"
   ]
  },
  {
   "cell_type": "code",
   "execution_count": 20,
   "metadata": {},
   "outputs": [],
   "source": [
    "idx = random.sample(range(0,X_train.shape[0]), 500000)\n",
    "y_train = pd.DataFrame(y_train)\n",
    "X_train_sampled = X_train.iloc[idx]\n",
    "y_train_sampled = y_train.iloc[idx]"
   ]
  },
  {
   "cell_type": "code",
   "execution_count": 1,
   "metadata": {},
   "outputs": [
    {
     "ename": "NameError",
     "evalue": "name 'lgb' is not defined",
     "output_type": "error",
     "traceback": [
      "\u001b[1;31m---------------------------------------------------------------------------\u001b[0m",
      "\u001b[1;31mNameError\u001b[0m                                 Traceback (most recent call last)",
      "\u001b[1;32m<ipython-input-1-be3020674f0e>\u001b[0m in \u001b[0;36m<module>\u001b[1;34m\u001b[0m\n\u001b[1;32m----> 1\u001b[1;33m model = lgb.sklearn.LGBMClassifier(objective='binary',\n\u001b[0m\u001b[0;32m      2\u001b[0m                                          \u001b[0meval_metric\u001b[0m\u001b[1;33m=\u001b[0m\u001b[1;34m'binary_logloss'\u001b[0m\u001b[1;33m,\u001b[0m\u001b[1;33m\u001b[0m\u001b[1;33m\u001b[0m\u001b[0m\n\u001b[0;32m      3\u001b[0m                                          \u001b[0mboosting\u001b[0m\u001b[1;33m=\u001b[0m\u001b[1;34m'gbdt'\u001b[0m\u001b[1;33m,\u001b[0m\u001b[1;33m\u001b[0m\u001b[1;33m\u001b[0m\u001b[0m\n\u001b[0;32m      4\u001b[0m                                          \u001b[0mlearning_rate\u001b[0m\u001b[1;33m=\u001b[0m\u001b[1;36m0.3\u001b[0m\u001b[1;33m,\u001b[0m\u001b[1;33m\u001b[0m\u001b[1;33m\u001b[0m\u001b[0m\n\u001b[0;32m      5\u001b[0m                                          \u001b[0mverbose\u001b[0m\u001b[1;33m=\u001b[0m\u001b[1;36m0\u001b[0m\u001b[1;33m,\u001b[0m\u001b[1;33m\u001b[0m\u001b[1;33m\u001b[0m\u001b[0m\n",
      "\u001b[1;31mNameError\u001b[0m: name 'lgb' is not defined"
     ]
    }
   ],
   "source": [
    "model = lgb.sklearn.LGBMClassifier(objective='binary',\n",
    "                                         eval_metric='binary_logloss',\n",
    "                                         boosting='gbdt',\n",
    "                                         learning_rate=0.3,\n",
    "                                         verbose=0,\n",
    "                                         max_depth= 2)\n",
    "\n",
    "model.fit(X_train, y_train)"
   ]
  },
  {
   "cell_type": "code",
   "execution_count": null,
   "metadata": {},
   "outputs": [],
   "source": [
    "predicted = sk_reg.predict(X_val)\n",
    "accuracy = accuracy_score(y_val, predicted)\n",
    "print(f'Mean accuracy score: {accuracy:.3}')"
   ]
  },
  {
   "cell_type": "code",
   "execution_count": null,
   "metadata": {},
   "outputs": [],
   "source": [
    "def lgb_feat_importance(m, df):\n",
    "    return pd.DataFrame({'cols':df.columns, 'imp':m.feature_importances_}\n",
    "                       ).sort_values('imp', ascending=False)\n",
    "\n",
    "fi = lgb_feat_importance(sk_reg, X_train_sampled ); \n",
    "print(fi[:10])\n",
    "\n",
    "def plot_fi(fi):return fi.plot('cols', 'imp', 'barh',\n",
    "                               figsize=(12,7), legend=False)\n",
    "plot_fi(fi[:30])\n",
    "plt.show()"
   ]
  },
  {
   "cell_type": "code",
   "execution_count": null,
   "metadata": {},
   "outputs": [],
   "source": [
    "from sklearn.metrics import precision_recall_fscore_support as score\n",
    "precision, recall, fscore, support = score(y_test, predicted)\n",
    "print('precision: {}'.format(precision))\n",
    "print('recall: {}'.format(recall))\n",
    "print('fscore: {}'.format(fscore))\n",
    "print('support: {}'.format(support))"
   ]
  }
 ],
 "metadata": {
  "interpreter": {
   "hash": "85b40b5b49aa8b0aa1c5a22a14f1101a07cbbfd3e21e3fb2c4bf6f184a8ab30b"
  },
  "kernelspec": {
   "display_name": "Python 3.8.8 ('base')",
   "language": "python",
   "name": "python3"
  },
  "language_info": {
   "codemirror_mode": {
    "name": "ipython",
    "version": 3
   },
   "file_extension": ".py",
   "mimetype": "text/x-python",
   "name": "python",
   "nbconvert_exporter": "python",
   "pygments_lexer": "ipython3",
   "version": "3.8.8"
  },
  "orig_nbformat": 4
 },
 "nbformat": 4,
 "nbformat_minor": 2
}
